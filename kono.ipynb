{
 "cells": [
  {
   "cell_type": "markdown",
   "metadata": {},
   "source": [
    "# Kono - Github repo health data analyses"
   ]
  },
  {
   "cell_type": "markdown",
   "metadata": {},
   "source": [
    "## Overview\n",
    "\n",
    "My initial project at Red Hat was to pursue a means for assessing the health of a github project. It was envisaged that if project health metrics were established, these could enable determining insights not readily apparent by github's extant visualizations and features (e.g. repo graphs, pulse)  As a nascent member of the Emerging technology group at Red Hat, it was paramount my initial work also provide a means for getting familiar with, and learning the benefits of the tooling within our group as pertains to big data products. During the project's inception, this primarily was within the [radanalyticsio](http://radanalytics.io) body of work which provides integration advantages of both [OpenShift](https://www.openshift.com/) for containerization of applications and Spark for scalable computation. With this in mind, in this article, I shall describe my journey with this project up to present.\n"
   ]
  },
  {
   "cell_type": "markdown",
   "metadata": {},
   "source": [
    "## Related Work\n",
    "\n",
    "While graduate school is blissfully far behind me, I would be remiss if I omitted details of what I consider a salient feature of any project undertaken: background checks. Call it a literature search, call it a prior art search, or call it creeping for info, it's a must to be certain one is not reinventing the wheel or stepping on anyone's legal toes. Particularly when embarking on a career with the world's leading open source company as in my case, there's no excuse for a lack of due diligence. Looking over the landscape of github repo data projects, the following stood out:\n",
    "\n",
    "- [githut](http://githut.info/) is a project which gives a quarterly data on repository languages based on pushes. \n",
    "\n",
    "- [github-statistics](https://github.com/AndrewVos/github-statistics) pursued relationships between profanity in commit messages and project activity.\n",
    "\n",
    "- [open source monthly](http://alysonla.github.io/open-source-monthly/) Tableau Public workbook connected to BigQuery. Shows type of events and activity per login.\n",
    "\n",
    "- [octoboard](https://github.com/KuiKui/Octoboard) repo's referred URL is now a product site  for a BI dashboard. Uncertain if related, Octoboard was originally name of a github data challenge project. Shows timeline API activity.\n",
    "\n",
    "- [GDC2](https://github.com/davidfischer/gdc2) geographic info for github repos. Pulls data files, massages, ranks by quanitity of repos in region.\n",
    "\n",
    "- [Open Source Report Card](https://github.com/dfm/osrc) open source report card, uses deprecated API. Became Gild, which is now 404. \n",
    "\n",
    "This said to me that the work I had in mind was novel in that it could provide a means for insights not currently possible, along with the novelty of taking advantage of OpenShift and Spark."
   ]
  },
  {
   "cell_type": "markdown",
   "metadata": {},
   "source": [
    "## Available Data\n",
    "\n",
    "In the same vein as checking out extant work, I next needed to understand what github repo data would be available. I prefer to see what I have to work with before embarking on feature engineering or otherwise. This again goes back to not reinventing the wheel, with the potential benefit of building off existing datasets and sources. \n",
    "\n",
    "### Sources\n",
    "\n",
    "- github provides a [REST API](https://developer.github.com/v3/) for retrieving repo data. As one would expect, rate limitations are in place. The API permits checking for updates via a lightweight API call.\n",
    "\n",
    "- [githubarchive](https://www.githubarchive.org) provides GZip compressed JSON files, each containing an hour of github event data.\n",
    "\n",
    "- BigQuery provides a githubachive-based dataset [found here](https://cloud.google.com/bigquery/public-data/github). \n",
    "\n",
    "### Structure\n",
    "\n",
    "- Events as defined in the [github event API docs](https://developer.github.com/v3/activity/events/types) are available using all aforementioned sources.\n",
    "\n",
    "- Non-event data (e.g. repo, org, user details) is available from the github API, depending on privacy settings.\n"
   ]
  },
  {
   "cell_type": "markdown",
   "metadata": {},
   "source": [
    "## Derived Repo Health Metrics\n",
    "\n",
    "Having an understanding of the data sources and availability, my next step was to consider what metrics would be appropriate in assessing the health of a project/repo, in data science-ish terms, this approaches feature engineering, but not quite. Put more simply, what makes a healthy repository? With this in mind, I assembled the following areas of interest with associated metrics I considered feasible:\n",
    "\n",
    "- **Activity** - A healthy repository does not have tumbleweeds blowing through it. Even projects in maintenance will have just that, maintenance events. As such, a general sum of events broken down by type would be useful.\n",
    "\n",
    "- **Interest** - A healthy repository inspires others to engage in what's provided. As such, data on number of the number of forks generated would be useful. As well as pull requests, issues, and comments. \n",
    "\n",
    "- **Responsiveness** - A good repository needs an owner/maintainer or group of such who, as needed, responds to communications from the community. Hence, another metric to consider is the response time in addressing pull requests and issues. \n",
    "\n",
    "- **Contributor Demeanor** - In my experience, the language one uses in their commit messages can be indicative of the contributor's mindset. For example, a disgruntled contributor might show up in [this project's](http://andrewvos.com/2011/02/21/amount-of-profanity-in-git-commit-messages-per-programming-language) radar. On the other end of the spectrum, commit messages with an excess of emoticons and effusiveness could betray a lack of seriousness about their craft. So sentiment analysis of commit messages in a repo could also be of value. As an aside, this metric resides in waters which can be tough to tread, since one might argue the commit language does not impact the efficacy of the contribution, however its exploring these fuzzy areas that are part of what makes what I do so much fun! \n",
    "\n",
    "- **Starring** - I am listing these as their own point, since the subjectiveness of starring is apparent. Standalone studies of correlations between starring and more quantitative metrics would be a subject unto themselves.\n"
   ]
  },
  {
   "cell_type": "markdown",
   "metadata": {},
   "source": [
    "## Data Acquisition Approach\n",
    "\n",
    "Given the metrics of interest, and what data sources are available, it was time to consider how I wanted to tackle this. First, this table indicates what I considered the advantages/disadvantages of the aforementioned sources:\n",
    "\n",
    "| Source          | Advantage              | Disadvantage                                       |\n",
    "| :-------------- | :--------------------- | :------------------------------------------------- |\n",
    "| github API      | Direct from github     | Rate limited                                       |\n",
    "| github archive  | No rate limit          | Requires initial download investment               |\n",
    "| BigQuery        | Query driven interface | No 2017 data, analysis amount limited in free tier |\n",
    "\n",
    "In my case, I wanted to be able to play with the data, making ~~some~~ many exploratory queries that lead to dead ends, back tracking as needed. As a result, the github API data and BigQuery usage limitations were not appealing. Since summary information is available in github's state of the Octoverse up to 2016 [articles](https://octoverse.github.com/) I chose to focus on data from Q1 2017. So, I began with this command to acquire the data files (note: this will download a large amount of data.)\n"
   ]
  },
  {
   "cell_type": "code",
   "execution_count": 15,
   "metadata": {},
   "outputs": [
    {
     "name": "stdout",
     "output_type": "stream",
     "text": [
      "Download complete\r\n"
     ]
    }
   ],
   "source": [
    "! mkdir -p ./data/2017\n",
    "! wget -q -N http://data.githubarchive.org/2017-{01..03}-{01..31}-{0..23}.json.gz -P ./data/2017\n",
    "! echo \"Download complete\""
   ]
  },
  {
   "cell_type": "markdown",
   "metadata": {},
   "source": [
    "## Scalability Preparation\n",
    "\n",
    "As mentioned, this is a large amount of data: hundreds of files for this quarter alone. I needed a means for processing this data in a parallel manner. Splitting each file into its own task seemed reasonable, since each record within the file has a timestamp. Looking further down the line, it seemed prudent (and useful for my project) if this work would be containerized as well. As a result, I pursued implementation in an OpenShift environment using a Docker image providing a means for utilizing pyspark-enabled Jupyter notebooks. This image was developed by members of the radanalytics community, at that! More info about it lives [here](https://hub.docker.com/r/radanalyticsio/base-notebook/). The instructions to get this up and running on one's local machine are fiendishly simple, and are as follows:\n",
    "\n",
    "1. Download the oc command [here](https://github.com/openshift/origin/releases) and place somewhere within your path.\n",
    "\n",
    "2. Install Docker Community Edition per [here](https://www.docker.com/community-edition).\n",
    "\n",
    "3. Be sure to provide --insecure-registry 172.30.0.0/16 as an argument to the Docker daemon either via Docker's config files or the preferences panel within the docker toolbar entry.\n",
    "\n",
    "3. From console, type oc cluster up. An OpenShift instance will be started on your local machine. \n",
    "\n",
    "4. You'll get a message with a url for connecting to the OpenShift web UI, browse to that using your browser of choice. For example, the following:\n",
    "\n",
    "> The server is accessible via web console at:\n",
    ">       https://127.0.0.1:8443\n",
    "\n",
    "5. Your browser may complain about this connection being unsafe, make quick work of that and move on.\n",
    "\n",
    "6. By default, an account with credentials developer/developer is created. Log in with these. \n",
    "\n",
    "7. By default, a project is created called MyProject, it will get the job done for most basic trying out needs. Click on it. \n",
    "\n",
    "8. Click add to project. \n",
    "\n",
    "9. Choose the Deploy Image tab. \n",
    "\n",
    "10. Select the Image Name radio button and type radanalyticsio/base-notebook, hit enter. \n",
    "\n",
    "11. To make life easier environment variables can be set for the Jupyter notebook settings, so that a password is used instead of a token. For example, JUPYTER_NOTEBOOK_PASSWORD can be set to NePtune.\n",
    "\n",
    "12. Click create.\n",
    "\n",
    "13. From the command line, type oc expose svc/base-notebook (Note: this can also be done via the web UI but I like the command line) \n",
    "\n",
    "14. Back to the web UI, there should be a URL for the route just exposed, this will lead to the PySpark Jupyter notebook goodness. \n",
    "\n",
    "15. Oho! It wants a password! Type in whatever was set previously for JUPYTER_NOTEBOOK_PASSWORD. Did you neglect to do this? Have no fear, there is another approach:\n",
    "\n",
    "- Click on the 1 pod text with a circle around it, then click the terminal tab. \n",
    "- Following the instructions shown on the Jupyter URL you navigated to, type jupyter notebook list, copy what's output as the token, and paste into the password entry box of the Jupyter URL. \n",
    "\n",
    "16. Now for the real fun, upload your Jupyter notebook or start a new one and jam.\n",
    "\n",
    "Having the base-notebook image in place is a huge convenience. However, it may not include some of the packages needed depending on application. As I learned, it's possible to install them locally within the cluster using Jupyter's bash magic commands as follows (Note: this could also be done via the terminal tab of the pod)"
   ]
  },
  {
   "cell_type": "code",
   "execution_count": 1,
   "metadata": {
    "collapsed": true
   },
   "outputs": [],
   "source": [
    "! pip install --user --quiet nltk\n",
    "! pip install --user --quiet vaderSentiment"
   ]
  },
  {
   "cell_type": "markdown",
   "metadata": {},
   "source": [
    "Of course, a Docker image could also be created that includes the necessary libraries, but this local method worked for me. Path of least resistance is my bff. \n",
    "\n",
    "## Metric Implementation and Visualization\n",
    "\n",
    "So I started with some imports (I'm cheating and including everything I now know I need but these imports could be placed in as needed locations) and set up a SparkSession and context. Note the need to add the local packages, which live in site-packages, it's complicated, to the system path. Further note this image is Python 2.7 so prepare accordingly _vis a vis_ future print."
   ]
  },
  {
   "cell_type": "code",
   "execution_count": 2,
   "metadata": {},
   "outputs": [],
   "source": [
    "%matplotlib inline\n",
    "import re\n",
    "import json\n",
    "import datetime as dt\n",
    "import numpy as np\n",
    "import pandas as pd\n",
    "import matplotlib.pyplot as plt\n",
    "import seaborn as sns\n",
    "import requests\n",
    "import sys,os,os.path\n",
    "import math\n",
    "from matplotlib.ticker import MaxNLocator\n",
    "from pyspark.sql import SparkSession\n",
    "#sys.path.append(os.path.expanduser('~/.local/lib/python2.7/site-packages'))\n",
    "from vaderSentiment.vaderSentiment import SentimentIntensityAnalyzer\n",
    "\n",
    "spark = SparkSession\\\n",
    "        .builder\\\n",
    "        .config(\"spark.executor.heartbeatInterval\",\"3600s\")\\\n",
    "        .appName(\"kono\")\\\n",
    "        .getOrCreate()\n",
    "\n",
    "sc = spark.sparkContext"
   ]
  },
  {
   "cell_type": "markdown",
   "metadata": {},
   "source": [
    "### Activity via Number of Events\n",
    "\n",
    "Finally, our first metric. For a given repo URL, I parsed the repo name, then start working through the data files to get all event instances. Due to differences in key names between event types, having only the name of the repo was insufficient, as a result, I call out to the github API just once to get the repo's internal ID which **is** universal across event records:"
   ]
  },
  {
   "cell_type": "code",
   "execution_count": 3,
   "metadata": {
    "collapsed": true
   },
   "outputs": [],
   "source": [
    "repoURL = 'https://github.com/radanalyticsio/oshinko-s2i'\n",
    "repoFullName = repoURL.split('github.com/')[-1]\n",
    "\n",
    "repoAPIURL = 'https://api.github.com/repos/' + repoFullName\n",
    "repoID = requests.get(repoAPIURL).json()['id']\n",
    "\n",
    "inFiles = \"data/2017/2017*.json.gz\"\n",
    "\n",
    "eventRecords = sc.textFile(inFiles)\\\n",
    "            .map(lambda record: json.loads(record))\\\n",
    "            .filter(lambda record: record['repo']['id'] == repoID)\\\n",
    "            .cache()\n",
    "\n",
    "er = eventRecords.collect()\n"
   ]
  },
  {
   "cell_type": "markdown",
   "metadata": {},
   "source": [
    "Next I convert the event records to a Pandas dataframe, get the count of each record type, and massage the event type names to render a prettier bar plot in Seaborn."
   ]
  },
  {
   "cell_type": "code",
   "execution_count": 51,
   "metadata": {
    "scrolled": false
   },
   "outputs": [
    {
     "data": {
      "image/png": "[encoded data removed]",
      "text/plain": [
       "<matplotlib.figure.Figure at 0x115552fd0>"
      ]
     },
     "metadata": {},
     "output_type": "display_data"
    }
   ],
   "source": [
    "%matplotlib inline\n",
    "df = pd.read_json(json.dumps(er))\n",
    "sns.set_style(\"whitegrid\")\n",
    "f, ax = plt.subplots(figsize=[15,9])\n",
    "reduceddf = df['type'].map(lambda rec: re.sub(r'Event',r'',rec)).value_counts()\n",
    "ticks = reduceddf.index.map(lambda index: re.sub(r'PullRequest',r'PR',index))\n",
    "sns.barplot(y=reduceddf.values,x=ticks)\n",
    "plt.title('Event Counts for ' + repoFullName +'\\n'+str(len(df))+' total events',fontsize=15)\n",
    "ax.set(ylabel=\"\",\n",
    "       xlabel=\"Event Types\")\n",
    "sns.despine(left=True, bottom=True)\n"
   ]
  },
  {
   "cell_type": "markdown",
   "metadata": {},
   "source": [
    "### Responsivness\n",
    "GitHub's record timestaps are in the format YYYY-mm-ddThh:mm:ssZ, the following gives a means for parsing timestamps and returning resolution time in days.\n",
    " "
   ]
  },
  {
   "cell_type": "code",
   "execution_count": 31,
   "metadata": {
    "collapsed": true
   },
   "outputs": [],
   "source": [
    "timeStampFormat = '%Y-%m-%dT%H:%M:%SZ'\n",
    "\n",
    "def parseGitHubUTCTimeStamp(ts):\n",
    "    return dt.datetime.strptime(ts, timeStampFormat)\n",
    "\n",
    "def determineResolutionTime(opened,closed):\n",
    "    td = closed - opened #rec[1][3]-rec[1][1]\n",
    "    return td.days"
   ]
  },
  {
   "cell_type": "markdown",
   "metadata": {},
   "source": [
    "#### Issue Resolution Time\n",
    "For a given repo, I determined delta between issue posted and issue resolved.\n"
   ]
  },
  {
   "cell_type": "code",
   "execution_count": 32,
   "metadata": {
    "collapsed": true
   },
   "outputs": [],
   "source": [
    "def parseIssuesRecord(record):\n",
    "    timeStamp = parseGitHubUTCTimeStamp(record['created_at'])\n",
    "    issueID = record['payload']['issue']['id']\n",
    "    action = record['payload']['action']\n",
    "    return [issueID, [action, timeStamp]]\n",
    "\n",
    "issuesRecords = eventRecords\\\n",
    "        .filter(lambda record: record['type'] == 'IssuesEvent')\\\n",
    "        .cache()\n",
    "\n",
    "openedRecords = issuesRecords\\\n",
    "        .filter(lambda record: record['payload']['action'] == 'opened')\\\n",
    "        .count()\n",
    "    \n",
    "timesToCloseIssues = issuesRecords\\\n",
    "        .filter(lambda record: record['payload']['action'] == 'opened' or record['payload']['action'] == 'closed')\\\n",
    "        .map(lambda issuesRecord: parseIssuesRecord(issuesRecord))\\\n",
    "        .reduceByKey(lambda a,b: a+b)\\\n",
    "        .filter(lambda rec: len(rec[1])>2)\\\n",
    "        .map(lambda rec: determineResolutionTime(rec[1][1],rec[1][3]))\\\n",
    "        .collect()"
   ]
  },
  {
   "cell_type": "markdown",
   "metadata": {},
   "source": [
    "And then I made another Seaborn plot, in this case I did a histogram of the number of days between issue creation and closing. "
   ]
  },
  {
   "cell_type": "code",
   "execution_count": 52,
   "metadata": {
    "scrolled": false
   },
   "outputs": [
    {
     "data": {
      "image/png": "[encoded data removed]",
      "text/plain": [
       "<matplotlib.figure.Figure at 0x1217136a0>"
      ]
     },
     "metadata": {},
     "output_type": "display_data"
    }
   ],
   "source": [
    "sns.set()\n",
    "bx = plt.figure(figsize=[15,9]).gca() \n",
    "import math\n",
    "from matplotlib.ticker import MaxNLocator\n",
    "\n",
    "sns.distplot(timesToCloseIssues,\\\n",
    "             kde=False,bins=70,color='red')\n",
    "titleStr=('Issue Time to Close for ' + repoFullName + ' (' + str(openedRecords) + ' opened, ' + str(len(timesToCloseIssues)) + ' closed)')\n",
    "bx.set(ylabel=\"\",xlabel=\"Days\")\n",
    "plt.title(titleStr,fontsize=15)\n",
    "bx.yaxis.set_major_locator(MaxNLocator(integer=True))\n"
   ]
  },
  {
   "cell_type": "markdown",
   "metadata": {},
   "source": [
    "#### Pull Request Close Time\n",
    "\n",
    "For a given repo, I determined the delta between pull request opening and closing. "
   ]
  },
  {
   "cell_type": "code",
   "execution_count": 34,
   "metadata": {
    "collapsed": true,
    "scrolled": true
   },
   "outputs": [],
   "source": [
    "def parsePullRequestRecord(record):\n",
    "    timeStamp = parseGitHubUTCTimeStamp(record['created_at'])\n",
    "    pullRequestID = record['payload']['pull_request']['id']\n",
    "    action = record['payload']['action']\n",
    "    merged = record['payload']['pull_request']['merged']\n",
    "    return [pullRequestID, [action, timeStamp, merged]]\n",
    "\n",
    "pullRequests = eventRecords\\\n",
    "        .filter(lambda record: record['type'] == 'PullRequestEvent')\\\n",
    "        .cache()\n",
    "\n",
    "openedPullRequests = pullRequests\\\n",
    "        .filter(lambda record: record['payload']['action'] == 'opened')\\\n",
    "        .count()\n",
    "    \n",
    "    \n",
    "timesToClosePulls = pullRequests\\\n",
    "        .filter(lambda record: record['payload']['action'] == 'opened' or record['payload']['action'] == 'closed')\\\n",
    "        .map(lambda record: parsePullRequestRecord(record))\\\n",
    "        .reduceByKey(lambda a,b: a+b)\\\n",
    "        .filter(lambda rec: len(rec[1])>3)\\\n",
    "        .map(lambda rec: determineResolutionTime(rec[1][1],rec[1][4]))\\\n",
    "        .collect()\n",
    "        "
   ]
  },
  {
   "cell_type": "markdown",
   "metadata": {},
   "source": [
    "I used Seaborn once again to create a histogram of the times. "
   ]
  },
  {
   "cell_type": "code",
   "execution_count": 54,
   "metadata": {},
   "outputs": [
    {
     "data": {
      "image/png": "[encoded data removed]",
      "text/plain": [
       "<matplotlib.figure.Figure at 0x110d4c8d0>"
      ]
     },
     "metadata": {},
     "output_type": "display_data"
    }
   ],
   "source": [
    "sns.set()\n",
    "cx = plt.figure(figsize=[15,9]).gca() \n",
    "\n",
    "sns.distplot(timesToClosePulls,\\\n",
    "             kde=False,bins=70,color='red')\n",
    "titleStr=('Pull Request Time to Close for ' + repoFullName + ' (' + str(openedPullRequests) + ' opened, ' + str(len(timesToClosePulls)) + ' closed)')\n",
    "cx.set(ylabel=\"\",xlabel=\"Days\")\n",
    "plt.title(titleStr,fontsize=15)\n",
    "cx.yaxis.set_major_locator(MaxNLocator(integer=True))\n"
   ]
  },
  {
   "cell_type": "markdown",
   "metadata": {},
   "source": [
    "### Sentiments\n",
    "\n",
    "After some digging around for extant libraries, I determined I would get sentiment intensity values using the [Vader Sentiment](https://github.com/cjhutto/vaderSentiment) package. For an input string, values ranging from 0-1 are output for positive, neutral, and negative sentiments, as well as a composite sentiment based on the three intensities. Per vader's docs, I created an instance of the sentiment analyzer to be used throughout my sentiment metrics"
   ]
  },
  {
   "cell_type": "code",
   "execution_count": 36,
   "metadata": {
    "collapsed": true
   },
   "outputs": [],
   "source": [
    "analyzer = SentimentIntensityAnalyzer()"
   ]
  },
  {
   "cell_type": "markdown",
   "metadata": {},
   "source": [
    "#### Commit Messages\n",
    "\n",
    "For each commit message, vader determined their intensity triplet, from which I then took the mean of all three valences. Finally, I computed the percentage each sentiment type contributed to the total sentiment."
   ]
  },
  {
   "cell_type": "code",
   "execution_count": 37,
   "metadata": {
    "scrolled": false
   },
   "outputs": [],
   "source": [
    "pushPayloads=df[df['type']=='PushEvent']['payload']\n",
    "\n",
    "neg=0\n",
    "pos=0\n",
    "neu=0\n",
    "numCommits = 0\n",
    "\n",
    "for p in pushPayloads.keys():\n",
    "    for cm in pushPayloads[p]['commits']:\n",
    "        numCommits+=1\n",
    "        scores=analyzer.polarity_scores(cm['message'])\n",
    "        neg+=scores['neg']\n",
    "        pos+=scores['pos']\n",
    "        neu+=scores['neu']\n",
    "\n",
    "if(numCommits > 0):\n",
    "    neg/=numCommits\n",
    "    pos/=numCommits\n",
    "    neu/=numCommits\n",
    "    total = neg+pos+neu\n",
    "    neg = neg*100/total\n",
    "    pos = pos*100/total\n",
    "    neu = neu*100/total\n",
    "\n",
    "commitMessageSentiments = [{'MessageType': 'Commit','SentimentType': 'Positive','Value': pos},\\\n",
    "                           {'MessageType': 'Commit','SentimentType': 'Neutral', 'Value': neu},\\\n",
    "                           {'MessageType': 'Commit','SentimentType': 'Negative', 'Value': neg}]"
   ]
  },
  {
   "cell_type": "markdown",
   "metadata": {},
   "source": [
    "#### Issue Comments\n",
    "\n",
    "For each issue comment, I again checked the sentiment and made a pie chart as per the commit messages."
   ]
  },
  {
   "cell_type": "code",
   "execution_count": 77,
   "metadata": {},
   "outputs": [],
   "source": [
    "issuePayloads=df[df['type']=='IssueCommentEvent']['payload']\n",
    "\n",
    "neg=0\n",
    "pos=0\n",
    "neu=0\n",
    "numIssueComments = 0\n",
    "\n",
    "for p in issuePayloads.keys():\n",
    "    numIssueComments+=1\n",
    "    scores=analyzer.polarity_scores(issuePayloads[p]['comment']['body'])\n",
    "    neg+=scores['neg']\n",
    "    pos+=scores['pos']\n",
    "    neu+=scores['neu']\n",
    "\n",
    "if(numIssueComments > 0):\n",
    "    neg/=numIssueComments\n",
    "    pos/=numIssueComments\n",
    "    neu/=numIssueComments\n",
    "    total = neg+pos+neu\n",
    "    neg = neg*100/total\n",
    "    pos = pos*100/total\n",
    "    neu = neu*100/total\n",
    "\n",
    "issueMessageSentiments = [{'MessageType': 'Issue','SentimentType': 'Positive','Value': pos},\\\n",
    "                           {'MessageType': 'Issue','SentimentType': 'Neutral', 'Value': neu},\\\n",
    "                           {'MessageType': 'Issue','SentimentType': 'Negative', 'Value': neg}]"
   ]
  },
  {
   "cell_type": "markdown",
   "metadata": {},
   "source": [
    "#### Pull Request Review Comments\n",
    "\n",
    "For each pull request review comment, I checked the sentiment, and finally plot the sentiment percentages making up each of the three types of comments."
   ]
  },
  {
   "cell_type": "code",
   "execution_count": 92,
   "metadata": {
    "scrolled": true
   },
   "outputs": [
    {
     "data": {
      "image/png": "[encoded data removed]",
      "text/plain": [
       "<matplotlib.figure.Figure at 0x115a16da0>"
      ]
     },
     "metadata": {},
     "output_type": "display_data"
    }
   ],
   "source": [
    "pullRequestReviewPayloads=df[df['type']=='PullRequestReviewCommentEvent']['payload']\n",
    "\n",
    "neg=0\n",
    "pos=0\n",
    "neu=0\n",
    "numPullRequestReviewComments = 0\n",
    "\n",
    "for p in pullRequestReviewPayloads.keys():\n",
    "    numPullRequestReviewComments+=1\n",
    "    scores=analyzer.polarity_scores(pullRequestReviewPayloads[p]['comment']['body'])\n",
    "    neg+=scores['neg']\n",
    "    pos+=scores['pos']\n",
    "    neu+=scores['neu']\n",
    "    \n",
    "if(numPullRequestReviewComments > 0):\n",
    "    neg/=numPullRequestReviewComments\n",
    "    pos/=numPullRequestReviewComments\n",
    "    neu/=numPullRequestReviewComments\n",
    "    total = neg+pos+neu\n",
    "    neg = neg*100/total\n",
    "    pos = pos*100/total\n",
    "    neu = neu*100/total\n",
    "\n",
    "pullRequestMessageSentiments = [{'MessageType': 'Pull Request','SentimentType': 'Positive','Value': pos},\\\n",
    "                           {'MessageType': 'Pull Request','SentimentType': 'Neutral', 'Value': neu},\\\n",
    "                           {'MessageType': 'Pull Request','SentimentType': 'Negative', 'Value': neg}]\n",
    "\n",
    "\n",
    "sdf = pd.DataFrame(pullRequestMessageSentiments)\\\n",
    "    .append(issueMessageSentiments,ignore_index=True)\\\n",
    "    .append(commitMessageSentiments,ignore_index=True)\n",
    "    \n",
    "sns.set_style(\"whitegrid\")\n",
    "pal = dict(Positive=\"Green\",Neutral=\"Gray\",Negative=\"Red\")\n",
    "g = sns.factorplot(x=\"SentimentType\",y=\"Value\",col=\"MessageType\",\\\n",
    "                    data=sdf,kind=\"bar\", ci=None,\\\n",
    "                    palette=pal,saturation=0.5, aspect=0.8)\n",
    "\n",
    "g=g.set_axis_labels(\"\", \"Percentage\")\\\n",
    "        .set(ylim=(0, 100))\\\n",
    "        .set_titles(\"{col_name}\")\\\n",
    "        .despine(left=True)\n",
    "\n",
    "plt.subplots_adjust(top=0.8)\n",
    "g=g.fig.suptitle(\"Sentiments by Repo Message Type for \" + repoFullName)\n"
   ]
  },
  {
   "cell_type": "markdown",
   "metadata": {},
   "source": [
    "## Lessons Learned\n",
    "\n",
    "In each case, OpenShift with the radanalyticsio base-notebook image made life much easier. Further, what I presented here only scratches the surface of what's enabled. I could have generated a Dockerfile with the packages I needed, delved into the mystic art of continuous integration with my notebook's repo, added a caching layer whereby results from processing github log files was stored. API result calls could be cached similarly. \n",
    "\n",
    "In previous work I relied on grabbing resources with perhaps reckless abandon, at times in the interest of working with a resource-constrained target (e.g. a ton of AWS space for crunching data to derive optimal parameters for a minimal algorithm mapped to an MCU). This project elucidated challenges beyond the target hardware, indeed the compute resources were constrained. It's true, BigQuery data with its associated GCE costs would have provided a less bandwidth spent on initial log file pulls. However, reliance on another platform was not an option, and indeed this constraint enabled my determining a novel means for achieving my goals.\n"
   ]
  },
  {
   "cell_type": "code",
   "execution_count": null,
   "metadata": {
    "collapsed": true
   },
   "outputs": [],
   "source": []
  }
 ],
 "metadata": {
  "kernelspec": {
   "display_name": "Python 3",
   "language": "python",
   "name": "python3"
  },
  "language_info": {
   "codemirror_mode": {
    "name": "ipython",
    "version": 3
   },
   "file_extension": ".py",
   "mimetype": "text/x-python",
   "name": "python",
   "nbconvert_exporter": "python",
   "pygments_lexer": "ipython3",
   "version": "3.6.1"
  }
 },
 "nbformat": 4,
 "nbformat_minor": 2
}
