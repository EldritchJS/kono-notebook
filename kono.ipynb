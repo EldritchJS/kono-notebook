{
 "cells": [
  {
   "cell_type": "markdown",
   "metadata": {},
   "source": [
    "# Kono - Github repo health data analyses"
   ]
  },
  {
   "cell_type": "markdown",
   "metadata": {},
   "source": [
    "## Overview\n",
    "\n",
    "My initial project at Red Hat was to pursue a means for assessing the health of a github project. It was envisaged that if project health metrics were established, these could enable determining insights not readily apparent by github's extant visualizations and features (e.g. repo graphs, pulse)  As a nascent member of the Emerging technology group at Red Hat, it was paramount my initial work also provide a means for getting familiar with, and learning the benefits of the tooling within our group as pertains to big data products. During the project's inception, this primarily was within the [radanalyticsio](http://radanalytics.io) body of work which provides integration advantages of both [OpenShift](https://www.openshift.com/) for containerization of applications and Spark for scalable computation. With this in mind, in this article, I shall describe my journey with this project up to present.\n"
   ]
  },
  {
   "cell_type": "markdown",
   "metadata": {},
   "source": [
    "## Related Work\n",
    "\n",
    "While graduate school is blissfully far behind me, I would be remiss if I omitted details of what I consider a salient feature of any project undertaken: background checks. Call it a literature search, call it a prior art search, or call it creeping for info, it's a must to be certain one is not reinventing the wheel or stepping on anyone's legal toes. Particularly when embarking on a career with the world's leading provider of open source solutions as in my case, there's no excuse for a lack of due diligence. Looking over the landscape of github repo data projects, the following stood out:\n",
    "\n",
    "- [githut](http://githut.info/) is a project which gives a quarterly data on repository languages based on pushes. \n",
    "\n",
    "- [github-statistics](https://github.com/AndrewVos/github-statistics) pursued relationships between profanity in commit messages and project activity.\n",
    "\n",
    "- [open source monthly](http://alysonla.github.io/open-source-monthly/) Tableau Public workbook connected to BigQuery. Shows type of events and activity per login.\n",
    "\n",
    "- [octoboard](https://github.com/KuiKui/Octoboard) repo's referred URL is now a product site  for a BI dashboard. Uncertain if related, Octoboard was originally name of a github data challenge project. Shows timeline API activity.\n",
    "\n",
    "- [GDC2](https://github.com/davidfischer/gdc2) geographic info for github repos. Pulls data files, massages, ranks by quanitity of repos in region.\n",
    "\n",
    "- [Open Source Report Card](https://github.com/dfm/osrc) open source report card, uses deprecated API. Became Gild, which is now 404. \n",
    "\n",
    "This said to me that the work I had in mind was novel in that it could provide a means for insights not currently possible, along with the novelty of taking advantage of OpenShift and Spark."
   ]
  },
  {
   "cell_type": "markdown",
   "metadata": {},
   "source": [
    "## Available Data\n",
    "\n",
    "In the same vein as checking out extant work, I next needed to understand what github repo data would be available. I prefer to see what I have to work with before embarking on feature engineering or otherwise. This again goes back to not reinventing the wheel, with the potential benefit of building off existing datasets and sources. \n",
    "\n",
    "### Sources\n",
    "\n",
    "- github provides a [REST API](https://developer.github.com/v3/) for retrieving repo data. As one would expect, rate limitations are in place. The API permits checking for updates via a lightweight API call.\n",
    "\n",
    "- [githubarchive](https://www.githubarchive.org) provides GZip compressed JSON files, each containing an hour of github event data.\n",
    "\n",
    "- BigQuery provides a githubachive-based dataset [found here](https://cloud.google.com/bigquery/public-data/github). \n",
    "\n",
    "### Structure\n",
    "\n",
    "- Events as defined in the [github event API docs](https://developer.github.com/v3/activity/events/types) are available using all aforementioned sources.\n",
    "\n",
    "- Non-event data (e.g. repo, org, user details) is available from the github API, depending on privacy settings.\n"
   ]
  },
  {
   "cell_type": "markdown",
   "metadata": {},
   "source": [
    "## Derived Repo Health Metrics\n",
    "\n",
    "Having an understanding of the data sources and availability, my next step was to consider what metrics would be appropriate in assessing the health of a project/repo, in data science-ish terms, this approaches feature engineering, but not quite. Put more simply, what makes a healthy repository? With this in mind, I assembled the following areas of interest with associated metrics I considered feasible:\n",
    "\n",
    "- **Activity** - A healthy repository does not have tumbleweeds blowing through it. Even projects in maintenance will have just that, maintenance events. As such, a general sum of events broken down by type would be useful.\n",
    "\n",
    "- **Interest** - A healthy repository inspires others to engage in what's provided. As such, data on number of the number of forks generated would be useful. As well as pull requests, issues, and comments. \n",
    "\n",
    "- **Responsiveness** - A good repository needs an owner/maintainer or group of such who, as needed, responds to communications from the community. Hence, another metric to consider is the response time in addressing pull requests and issues. \n",
    "\n",
    "- **Contributor Demeanor** - In my experience, the language one uses in their commit messages can be indicative of the contributor's mindset. For example, a disgruntled contributor might show up in [this project's](http://andrewvos.com/2011/02/21/amount-of-profanity-in-git-commit-messages-per-programming-language) radar. On the other end of the spectrum, commit messages with an excess of emoticons and effusiveness could betray a lack of seriousness about their craft. So sentiment analysis of commit messages in a repo could also be of value. As an aside, this metric resides in waters which can be tough to tread, since one might argue the commit language does not impact the efficacy of the contribution, however its exploring these fuzzy areas that are part of what makes what I do so much fun! \n",
    "\n",
    "- **Starring** - I am listing these as their own point, since the subjectiveness of starring is apparent. Standalone studies of correlations between starring and more quantitative metrics would be a subject unto themselves.\n"
   ]
  },
  {
   "cell_type": "markdown",
   "metadata": {},
   "source": [
    "## Data Acquisition Approach\n",
    "\n",
    "Given the metrics of interest, and what data sources are available, it was time to consider how I wanted to tackle this. First, this table indicates what I considered the advantages/disadvantages of the aforementioned sources:\n",
    "\n",
    "| Source          | Advantage              | Disadvantage                                       |\n",
    "| :-------------- | :--------------------- | :------------------------------------------------- |\n",
    "| github API      | Direct from github     | Rate limited                                       |\n",
    "| github archive  | No rate limit          | Requires initial download investment               |\n",
    "| BigQuery        | Query driven interface | No 2017 data, analysis amount limited in free tier |\n",
    "\n",
    "In my case, I wanted to be able to play with the data, making ~~some~~ many exploratory queries that lead to dead ends, back tracking as needed. As a result, the github API data and BigQuery usage limitations were not appealing. Since summary information is available in github's state of the Octoverse up to 2016 [articles](https://octoverse.github.com/) I chose to focus on data from Q1 2017. So, I began with this command to acquire the data files (note: this will download a large amount of data.)\n"
   ]
  },
  {
   "cell_type": "code",
   "execution_count": 1,
   "metadata": {
    "collapsed": true
   },
   "outputs": [],
   "source": [
    "! mkdir -p ./data/2017\n",
    "! wget -q -N http://data.githubarchive.org/2017-{01..03}-{01..31}-{0..23}.json.gz -P ./data/2017\n",
    "! echo \"Download complete\""
   ]
  },
  {
   "cell_type": "markdown",
   "metadata": {},
   "source": [
    "## Scalability Preparation\n",
    "\n",
    "As mentioned, this is a large amount of data: hundreds of files for this quarter alone. I needed a means for processing this data in a parallel manner. Splitting each file into its own task seemed reasonable, since each record within the file has a timestamp. Looking further down the line, it seemed prudent (and useful for my project) if this work would be containerized as well. As a result, I pursued implementation in an OpenShift environment using a Docker image providing a means for utilizing pyspark-enabled Jupyter notebooks. This image was developed by members of the radanalytics community, at that! More info about it lives [here](https://hub.docker.com/r/radanalyticsio/base-notebook/). The instructions to get this up and running on one's local machine are fiendishly simple, and are as follows:\n",
    "\n",
    "1. Install OpenShift origin using \n",
    "```bash \n",
    "dnf install origin\n",
    "``` \n",
    "for Fedora or \n",
    "```bash\n",
    "brew install minishift\n",
    "``` \n",
    "for OSX (you **are** using Homebrew, right?). Windows folks, you're on your own here. \n",
    "\n",
    "2. From a terminal, type \n",
    "```bash\n",
    "oc cluster up \n",
    "```\n",
    "or \n",
    "```bash\n",
    "minishift start\n",
    "```\n",
    "for Linux or OSX, respectively. An OpenShift instance will be started on your local machine. \n",
    "\n",
    "3. You'll get a message with a url for connecting to the OpenShift web UI, browse to that using your browser of choice. For example, the following:\n",
    "\n",
    " The server is accessible via web console at:\n",
    "       https://127.0.0.1:8443\n",
    "\n",
    "4. Your browser may complain about this connection being unsafe, make quick work of that and move on.\n",
    "\n",
    "5. By default, an account with credentials developer/developer is created. Log in with these. \n",
    "\n",
    "6. By default, a project is created called MyProject, it will get the job done for most basic trying out needs. Click on it. \n",
    "\n",
    "7. Click add to project. \n",
    "\n",
    "8. Choose the Deploy Image tab. \n",
    "\n",
    "9. Select the Image Name radio button and type radanalyticsio/base-notebook, hit enter. \n",
    "\n",
    "10. To make life easier environment variables can be set for the Jupyter notebook settings, so that a password is used instead of a token. For example, JUPYTER_NOTEBOOK_PASSWORD can be set to NePtune.\n",
    "\n",
    "11. Click create.\n",
    "\n",
    "12. From the command line, type oc expose svc/base-notebook (Note: this can also be done via the web UI but I like the command line) \n",
    "\n",
    "13. Back to the web UI, there should be a URL for the route just exposed, this will lead to the PySpark Jupyter notebook goodness. \n",
    "\n",
    "14. Oho! It wants a password! Type in whatever was set previously for JUPYTER_NOTEBOOK_PASSWORD. Did you neglect to do this? Have no fear, there is another approach:\n",
    "\n",
    "- Click on the 1 pod text with a circle around it, then click the terminal tab. \n",
    "- Following the instructions shown on the Jupyter URL you navigated to, type jupyter notebook list, copy what's output as the token, and paste into the password entry box of the Jupyter URL. \n",
    "\n",
    "15. Now for the real fun, upload your Jupyter notebook or start a new one and jam.\n",
    "\n",
    "Having the base-notebook image in place is a huge convenience. However, it may not include some of the packages needed depending on application. As I learned, it's possible to install them locally within the cluster using Jupyter's bash magic commands as follows (Note: this could also be done via the terminal tab of the pod)"
   ]
  },
  {
   "cell_type": "code",
   "execution_count": 2,
   "metadata": {
    "collapsed": true
   },
   "outputs": [],
   "source": [
    "! pip install --user --quiet nltk\n",
    "! pip install --user --quiet vaderSentiment"
   ]
  },
  {
   "cell_type": "markdown",
   "metadata": {},
   "source": [
    "Of course, a Docker image could also be created that includes the necessary libraries, but this local method worked for me. Path of least resistance is my bff. \n",
    "\n",
    "## Metric Implementations and Visualizations\n",
    "\n",
    "So I started with some imports (I'm cheating and including everything I now know I need but these imports could be placed in as needed locations) and set up a SparkSession and context. Note the need to add the local packages, which live in site-packages, it's complicated, to the system path. Further note this image is Python 2.7 so prepare accordingly _vis a vis_ future print."
   ]
  },
  {
   "cell_type": "code",
   "execution_count": 52,
   "metadata": {
    "collapsed": true
   },
   "outputs": [],
   "source": [
    "%matplotlib inline\n",
    "import re\n",
    "import json\n",
    "import datetime as dt\n",
    "import numpy as np\n",
    "import pandas as pd\n",
    "import matplotlib.pyplot as plt\n",
    "import seaborn as sns\n",
    "import requests\n",
    "import sys,os,os.path\n",
    "import math\n",
    "from matplotlib.ticker import MaxNLocator\n",
    "from pyspark.sql import SparkSession\n",
    "sys.path.append(os.path.expanduser('~/.local/lib/python2.7/site-packages'))\n",
    "from vaderSentiment.vaderSentiment import SentimentIntensityAnalyzer\n",
    "from pyspark.sql import Row\n",
    "\n",
    "\n",
    "spark = SparkSession\\\n",
    "        .builder\\\n",
    "        .config(\"spark.executor.heartbeatInterval\",\"3600s\")\\\n",
    "        .appName(\"kono\")\\\n",
    "        .getOrCreate()\n",
    "\n",
    "sc = spark.sparkContext"
   ]
  },
  {
   "cell_type": "markdown",
   "metadata": {},
   "source": [
    "### Activity via Number of Events\n",
    "\n",
    "Finally, I could do my first metric calculation! For a given repo URL (kubernetes/kubernetes in this example), I parsed the repo name, then start working through the data files to get all event instances. Due to differences in key names between event types, having only the name of the repo was insufficient, as a result, I call out to the github API just once to get the repo's internal ID which **is** universal across event records:"
   ]
  },
  {
   "cell_type": "code",
   "execution_count": 53,
   "metadata": {
    "collapsed": true
   },
   "outputs": [],
   "source": [
    "repoURL = 'https://github.com/kubernetes/kubernetes'\n",
    "repoFullName = repoURL.split('github.com/')[-1]\n",
    "\n",
    "repoAPIURL = 'https://api.github.com/repos/' + repoFullName\n",
    "repoID = requests.get(repoAPIURL).json()['id']\n",
    "\n",
    "inFiles = \"data/2017/2017*.json.gz\"\n",
    "\n",
    "eventRecords = sc.textFile(inFiles)\\\n",
    "            .map(lambda record: json.loads(record))\\\n",
    "            .filter(lambda record: record['repo']['id'] == repoID)\\\n",
    "            .cache()\n",
    "            \n",
    "eventCounts = eventRecords.map(lambda record: (record['type'],1))\\\n",
    "         .reduceByKey(lambda a, b: a+b)\\\n",
    "         .collect()"
   ]
  },
  {
   "cell_type": "markdown",
   "metadata": {},
   "source": [
    "Next I converted the event records to a Pandas dataframe, get the count of each record type, and massage the event type names to render a prettier bar plot in Seaborn."
   ]
  },
  {
   "cell_type": "code",
   "execution_count": 54,
   "metadata": {
    "scrolled": false
   },
   "outputs": [
    {
     "data": {
      "image/png": "[encoded data removed]",
      "text/plain": [
       "<matplotlib.figure.Figure at 0x11405dcc0>"
      ]
     },
     "metadata": {},
     "output_type": "display_data"
    }
   ],
   "source": [
    "sns.set_style(\"whitegrid\")\n",
    "f, ax = plt.subplots(figsize=[15,9])\n",
    "prettyCounts = sorted([ (re.sub(r'Event',r'',rec[0]),rec[1]) for rec in eventCounts ],key=lambda rec: rec[1],reverse=True)\n",
    "prettyCounts = [ (re.sub(r'PullRequest',r'PR', rec[0]),rec[1]) for rec in prettyCounts ]\n",
    "yVals = [ rec[1] for rec in prettyCounts ]\n",
    "xVals = [ rec[0] for rec in prettyCounts ]\n",
    "sns.barplot(y=yVals ,x=xVals)\n",
    "plt.title('Event Counts for ' + repoFullName +'\\n'+str(sum(yVals))+' total events',fontsize=15)\n",
    "ax.set(ylabel=\"\",\n",
    "       xlabel=\"Event Types\")\n",
    "sns.despine(left=True, bottom=True)"
   ]
  },
  {
   "cell_type": "markdown",
   "metadata": {},
   "source": [
    "### Responsivness\n",
    "GitHub's record timestaps are in the format YYYY-mm-ddThh:mm:ssZ, the following gives a means for parsing timestamps and returning resolution time in days.\n",
    " "
   ]
  },
  {
   "cell_type": "code",
   "execution_count": 55,
   "metadata": {
    "collapsed": true
   },
   "outputs": [],
   "source": [
    "timeStampFormat = '%Y-%m-%dT%H:%M:%SZ'\n",
    "\n",
    "def parseGitHubUTCTimeStamp(ts):\n",
    "    return dt.datetime.strptime(ts, timeStampFormat)\n",
    "\n",
    "def determineResolutionTime(opened,closed):\n",
    "    td = closed - opened \n",
    "    return abs(td.days)"
   ]
  },
  {
   "cell_type": "markdown",
   "metadata": {},
   "source": [
    "#### Issue Resolution Time\n",
    "For a given repo issue, I determined delta between issue posted and issue resolved.\n"
   ]
  },
  {
   "cell_type": "code",
   "execution_count": 56,
   "metadata": {
    "collapsed": true
   },
   "outputs": [],
   "source": [
    "def parseIssuesRecord(record):\n",
    "    timeStamp = parseGitHubUTCTimeStamp(record['created_at'])\n",
    "    issueID = record['payload']['issue']['id']\n",
    "    action = record['payload']['action']\n",
    "    return [issueID, [action, timeStamp]]\n",
    "\n",
    "issuesRecords = eventRecords\\\n",
    "        .filter(lambda record: record['type'] == 'IssuesEvent')\n",
    "\n",
    "openedRecords = issuesRecords\\\n",
    "        .filter(lambda record: record['payload']['action'] == 'opened')\\\n",
    "        .count()\n",
    "    \n",
    "timesToCloseIssues = issuesRecords\\\n",
    "        .filter(lambda record: record['payload']['action'] == 'opened' or record['payload']['action'] == 'closed')\\\n",
    "        .map(lambda issuesRecord: parseIssuesRecord(issuesRecord))\\\n",
    "        .reduceByKey(lambda a,b: a+b)\\\n",
    "        .filter(lambda rec: len(rec[1])>2)\\\n",
    "        .map(lambda rec: determineResolutionTime(rec[1][1],rec[1][3]))\\\n",
    "        .collect()"
   ]
  },
  {
   "cell_type": "markdown",
   "metadata": {},
   "source": [
    "And then I made another Seaborn plot, in this case I did a histogram of the number of days between issue creation and closing. "
   ]
  },
  {
   "cell_type": "code",
   "execution_count": 57,
   "metadata": {
    "scrolled": false
   },
   "outputs": [
    {
     "data": {
      "image/png": "[encoded data removed]",
      "text/plain": [
       "<matplotlib.figure.Figure at 0x113f17160>"
      ]
     },
     "metadata": {},
     "output_type": "display_data"
    }
   ],
   "source": [
    "sns.set()\n",
    "bx = plt.figure(figsize=[15,9]).gca() \n",
    "\n",
    "sns.distplot(timesToCloseIssues,\\\n",
    "             kde=False,bins=70,color='red')\n",
    "titleStr=('Issue Time to Close for ' + repoFullName + ' (' + str(openedRecords) + ' opened, ' + str(len(timesToCloseIssues)) + ' closed)')\n",
    "bx.set(ylabel=\"\",xlabel=\"Days\")\n",
    "plt.title(titleStr,fontsize=15)\n",
    "bx.yaxis.set_major_locator(MaxNLocator(integer=True))\n"
   ]
  },
  {
   "cell_type": "markdown",
   "metadata": {},
   "source": [
    "#### Pull Request Close Time\n",
    "\n",
    "For a given repo, I determined the delta between pull request opening and closing. "
   ]
  },
  {
   "cell_type": "code",
   "execution_count": 58,
   "metadata": {
    "collapsed": true,
    "scrolled": true
   },
   "outputs": [],
   "source": [
    "def parsePullRequestRecord(record):\n",
    "    timeStamp = parseGitHubUTCTimeStamp(record['created_at'])\n",
    "    pullRequestID = record['payload']['pull_request']['id']\n",
    "    action = record['payload']['action']\n",
    "    merged = record['payload']['pull_request']['merged']\n",
    "    return [pullRequestID, [action, timeStamp, merged]]\n",
    "\n",
    "pullRequests = eventRecords\\\n",
    "        .filter(lambda record: record['type'] == 'PullRequestEvent')\n",
    "\n",
    "openedPullRequests = pullRequests\\\n",
    "        .filter(lambda record: record['payload']['action'] == 'opened')\\\n",
    "        .count()\n",
    "    \n",
    "    \n",
    "timesToClosePulls = pullRequests\\\n",
    "        .filter(lambda record: record['payload']['action'] == 'opened' or record['payload']['action'] == 'closed')\\\n",
    "        .map(lambda record: parsePullRequestRecord(record))\\\n",
    "        .reduceByKey(lambda a,b: a+b)\\\n",
    "        .filter(lambda rec: len(rec[1])>3)\\\n",
    "        .map(lambda rec: determineResolutionTime(rec[1][1],rec[1][4]))\\\n",
    "        .collect()\n",
    "        "
   ]
  },
  {
   "cell_type": "markdown",
   "metadata": {},
   "source": [
    "I used Seaborn once again to create a histogram of the times. "
   ]
  },
  {
   "cell_type": "code",
   "execution_count": 59,
   "metadata": {},
   "outputs": [
    {
     "data": {
      "image/png": "[encoded data removed]",
      "text/plain": [
       "<matplotlib.figure.Figure at 0x1138b7cc0>"
      ]
     },
     "metadata": {},
     "output_type": "display_data"
    }
   ],
   "source": [
    "sns.set()\n",
    "cx = plt.figure(figsize=[15,9]).gca() \n",
    "\n",
    "sns.distplot(timesToClosePulls,\\\n",
    "             kde=False,bins=70,color='red')\n",
    "titleStr=('Pull Request Time to Close for ' + repoFullName + ' (' + str(openedPullRequests) + ' opened, ' + str(len(timesToClosePulls)) + ' closed)')\n",
    "cx.set(ylabel=\"\",xlabel=\"Days\")\n",
    "plt.title(titleStr,fontsize=15)\n",
    "cx.yaxis.set_major_locator(MaxNLocator(integer=True))\n"
   ]
  },
  {
   "cell_type": "markdown",
   "metadata": {},
   "source": [
    "### Sentiments\n",
    "\n",
    "After some digging around for extant libraries, I determined I would get sentiment intensity values using the [Vader Sentiment](https://github.com/cjhutto/vaderSentiment) package. For an input string, values ranging from 0-1 are output for positive, neutral, and negative sentiments, as well as a composite sentiment based on the three intensities. Per vader's docs, I created an instance of the sentiment analyzer to be used throughout my sentiment metrics. I also made a function to determine sentiments and return a dataframe friendly result. For each message, vader is used to determine its intensity triplet, from which the mean of all three valences is computed. Finally, the percentage each sentiment type contributed to the total sentiment is computed."
   ]
  },
  {
   "cell_type": "code",
   "execution_count": 60,
   "metadata": {
    "collapsed": true
   },
   "outputs": [],
   "source": [
    "analyzer = SentimentIntensityAnalyzer()\n",
    "\n",
    "def determineSentiments(messages, mType):\n",
    "    neg=0\n",
    "    pos=0\n",
    "    neu=0\n",
    "    numMessages=0\n",
    "    \n",
    "    for m in messages:\n",
    "        numMessages+=1\n",
    "        scores=analyzer.polarity_scores(m)\n",
    "        neg+=scores['neg']\n",
    "        pos+=scores['pos']\n",
    "        neu+=scores['neu']\n",
    "            \n",
    "    if(numMessages > 0):\n",
    "        neg/=numMessages\n",
    "        pos/=numMessages\n",
    "        neu/=numMessages\n",
    "        total = neg+pos+neu\n",
    "        neg = neg*100/total\n",
    "        pos = pos*100/total\n",
    "        neu = neu*100/total\n",
    "        \n",
    "    ret = [{'MessageType': mType, 'SentimentType': 'Positive', 'Value': pos},\\\n",
    "           {'MessageType': mType, 'SentimentType': 'Neutral', 'Value': neu},\\\n",
    "           {'MessageType': mType, 'SentimentType': 'Negative', 'Value': neg}]\n",
    "    \n",
    "    return ret"
   ]
  },
  {
   "cell_type": "markdown",
   "metadata": {},
   "source": [
    "#### Commit Messages\n",
    "PushEvent records may have multiple commits, each of which has its own message. As will be seen, IssueCommentEvent and PullRequestReviewEvent records have a single message. In order to comply with the above defined function, the commit messages are extracted from the PushEvent records. \n"
   ]
  },
  {
   "cell_type": "code",
   "execution_count": 61,
   "metadata": {
    "collapsed": true,
    "scrolled": false
   },
   "outputs": [],
   "source": [
    "commitMessages = eventRecords\\\n",
    "        .filter(lambda record: record['type'] == 'PushEvent')\\\n",
    "        .flatMap(lambda record: record['payload']['commits'])\\\n",
    "        .map(lambda record: record['message'])\\\n",
    "        .collect()\n",
    "\n",
    "commitMessageSentiments = determineSentiments(commitMessages,'Commit') "
   ]
  },
  {
   "cell_type": "markdown",
   "metadata": {},
   "source": [
    "#### Issue Comments\n",
    "\n",
    "For each issue comment, I again checked the sentiment percentages as per the commit messages."
   ]
  },
  {
   "cell_type": "code",
   "execution_count": 62,
   "metadata": {
    "collapsed": true
   },
   "outputs": [],
   "source": [
    "issueCommentBodies = eventRecords\\\n",
    "        .filter(lambda record: record['type'] == 'IssueCommentEvent')\\\n",
    "        .map(lambda record: record['payload']['comment']['body'])\\\n",
    "        .collect()\n",
    "\n",
    "issueMessageSentiments = determineSentiments(issueCommentBodies, 'Issue')"
   ]
  },
  {
   "cell_type": "markdown",
   "metadata": {},
   "source": [
    "#### Pull Request Review Comments\n",
    "\n",
    "For each pull request review comment, I checked the sentiment percentages, and finally plotted the sentiment percentages making up each of the three types of comments."
   ]
  },
  {
   "cell_type": "code",
   "execution_count": 63,
   "metadata": {
    "scrolled": true
   },
   "outputs": [
    {
     "data": {
      "image/png": "[encoded data removed]",
      "text/plain": [
       "<matplotlib.figure.Figure at 0x114c6ddd8>"
      ]
     },
     "metadata": {},
     "output_type": "display_data"
    }
   ],
   "source": [
    "pullRequestReviewCommentRecords = eventRecords\\\n",
    "        .filter(lambda record: record['type'] == 'PullRequestReviewCommentEvent')\\\n",
    "        .map(lambda record: record['payload']['comment']['body'])\\\n",
    "        .collect()\n",
    "\n",
    "pullRequestMessageSentiments = determineSentiments(pullRequestReviewCommentRecords, 'Pull Request')\n",
    "\n",
    "sdf = pd.DataFrame(pullRequestMessageSentiments)\\\n",
    "    .append(issueMessageSentiments,ignore_index=True)\\\n",
    "    .append(commitMessageSentiments,ignore_index=True)\n",
    "    \n",
    "sns.set_style(\"whitegrid\")\n",
    "pal = dict(Positive=\"Green\",Neutral=\"Gray\",Negative=\"Red\")\n",
    "g = sns.factorplot(x=\"SentimentType\",y=\"Value\",col=\"MessageType\",\\\n",
    "                    data=sdf,kind=\"bar\", ci=None,\\\n",
    "                    palette=pal,saturation=0.5, aspect=0.8)\n",
    "\n",
    "g=g.set_axis_labels(\"\", \"Percentage\")\\\n",
    "        .set(ylim=(0, 100))\\\n",
    "        .set_titles(\"{col_name}\")\\\n",
    "        .despine(left=True)\n",
    "\n",
    "plt.subplots_adjust(top=0.8)\n",
    "g=g.fig.suptitle(\"Sentiments by Repo Message Type for \" + repoFullName)"
   ]
  },
  {
   "cell_type": "markdown",
   "metadata": {},
   "source": [
    "## Lessons Learned\n",
    "\n",
    "In each case, OpenShift with the radanalyticsio base-notebook image made life much easier. Further, what I presented here only scratches the surface of what's enabled. I could have generated a Dockerfile with the packages I needed, delved into the mystic art of continuous integration with my notebook's repo, added a caching layer whereby results from processing github log files was stored. API result calls could be cached similarly. \n",
    "\n",
    "In previous work I relied on grabbing resources with perhaps reckless abandon, at times in the interest of working with a resource-constrained target (e.g. a ton of AWS space for crunching data to derive optimal parameters for a minimal algorithm mapped to an MCU). This project elucidated challenges beyond the target hardware, indeed the compute resources were constrained. It's true, BigQuery data with its associated GCE costs would have provided a less bandwidth spent on initial log file pulls. However, reliance on another platform was not an option, and indeed this constraint enabled my determining a novel means for achieving my goals.\n"
   ]
  },
  {
   "cell_type": "code",
   "execution_count": null,
   "metadata": {
    "collapsed": true
   },
   "outputs": [],
   "source": []
  }
 ],
 "metadata": {
  "kernelspec": {
   "display_name": "Python 3",
   "language": "python",
   "name": "python3"
  },
  "language_info": {
   "codemirror_mode": {
    "name": "ipython",
    "version": 3
   },
   "file_extension": ".py",
   "mimetype": "text/x-python",
   "name": "python",
   "nbconvert_exporter": "python",
   "pygments_lexer": "ipython3",
   "version": "3.6.1"
  }
 },
 "nbformat": 4,
 "nbformat_minor": 2
}
